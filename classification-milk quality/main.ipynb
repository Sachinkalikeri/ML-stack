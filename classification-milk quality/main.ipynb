# This Python 3 environment comes with many helpful analytics libraries installed
# It is defined by the kaggle/python Docker image: https://github.com/kaggle/docker-python
# For example, here's several helpful packages to load

import numpy as np # linear algebra
import pandas as pd # data processing, CSV file I/O (e.g. pd.read_csv)

# Input data files are available in the read-only "../input/" directory
# For example, running this (by clicking run or pressing Shift+Enter) will list all files under the input directory

import os
for dirname, _, filenames in os.walk('/kaggle/input'):
    for filename in filenames:
        print(os.path.join(dirname, filename))

# You can write up to 20GB to the current directory (/kaggle/working/) that gets preserved as output when you create a version using "Save & Run All" 
# You can also write temporary files to /kaggle/temp/, but they won't be saved outside of the current session

df=pd.read_csv("/kaggle/input/milkquality/milknew.csv")
display(df.head(2))
# BASIC WALKTHROUGH OF THE DATA 
df.info()



#CHECKING UNIQUE VALUES IN EACH COLUMN
for i in df.columns:
    print(f"column {i}")
    print(df[i].unique())
    print(f"unique number of element in column {i} is {df[i].nunique()}")
    print("")
#encoding grade column
df.Grade=df.Grade.replace({"high":3,"medium":2,"low":1}).astype("int")
df.head(2)
#spread of the data
pd.DataFrame(df.describe().T)
# visualizing the data

import plotly.express as px
import seaborn as sns
px.imshow(df.corr(),text_auto=True)
####  no significant inference can be taken out from this matrix 
px.box(df,template="plotly_white")


df.columns
#fresh milk pH should range between 6.5 to 6.9
px.scatter(df,x="pH",y="Temprature",size="pH",color="pH",template="plotly_white")
#colour should be in range between 245 to 255, for fresh milk
fig=px.scatter(df,x="pH",y="Colour",color="Colour",size="Colour",template="plotly_white",symbol="Grade")
fig.update_coloraxes(showscale=False)
fig.show()




from sklearn.preprocessing import StandardScaler
scaler=StandardScaler()
for i in ["pH","Temprature","Colour"]:
x=df.iloc[:,0:8]
y=df.iloc[:,-1]
from sklearn.model_selection import train_test_split
xtrain,xtest,ytrain,ytest=train_test_split(x,y,train_size=0.85)
from sklearn.linear_model import LogisticRegression
logit=LogisticRegression()
logit.fit(xtrain,ytrain)
