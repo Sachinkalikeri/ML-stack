![](https://ec.europa.eu/newsroom/repository/picture/2020-33/istock-1044936244_65653.jpg)

#<center>**Energy Efficiency EDA**<center/>
<h1><center><font color="green">About The Dataset</font><center/><h1/>

<p align="left">This study assessed the heating load and cooling load requirements of buildings (that is, energy efficiency) as a function of building parameters.<br> <br>
We perform energy analysis using 12 different building shapes simulated in Ecotect. The buildings differ with respect to the glazing area, the glazing area distribution, and the orientation, amongst other parameters. We simulate various settings as functions of the characteristics above to obtain 768 building shapes. The dataset comprises 768 samples and 8 features, aiming to predict two real-valued responses. It can also be used as a multi-class classification problem if the response is rounded to the nearest integer.</p>
Import Libraries
import pandas as pd  
import numpy as np 
import matplotlib.pyplot as plt 
import seaborn as sns
import plotly.express as px
Load The Dataset
energy_df = pd.read_csv("/kaggle/input/energy-efficiency-data-set/energy_efficiency_data.csv")


# View information about the data types and missing values
energy_df.info()
energy_df.shape
# View the first five rows of the data
energy_df.head()
# View the last five rows of the data
energy_df.tail()
# View summary statistics of the data
energy_df.describe()

# Data Visualization
energy_df.hist(figsize=(20,13),bins=30)
plt.figure(figsize=(25,15))
sns.boxplot(data=energy_df)
#### Correlation of features
plt.figure(figsize=(20,7))
sns.heatmap(energy_df.corr(),annot=True)
#### Histogram of features
num_list = list(energy_df.columns)

fig = plt.figure(figsize=(10,30))

for i in range(len(num_list)):
    plt.subplot(15,2,i+1)
    plt.title(num_list[i])
    plt.hist(energy_df[num_list[i]],color='blue',alpha=0.5)

plt.tight_layout()
####Heating and Cooling Load
fig = plt.figure(figsize=(10,10))
sns.distplot(energy_df['Cooling_Load'],hist=False)
sns.distplot(energy_df['Heating_Load'],hist=False)
plt.legend(['Cooling Load','Heating Load'])
plt.xlabel('Load')
plt.show()
sns.set_context('poster', font_scale=0.6)
energy_df.groupby('Glazing_Area').mean().plot(kind='bar', figsize=(10,10)) 
plt.xlabel('Glazing_Area')
plt.ylabel('Heating load and Cooling load')
plt.title('Energy Efficiency of Building on Glazing_Area')
plt.show()
Cooling and heating load increases with increasing
sns.set_context('poster', font_scale=0.6)
energy_df.groupby('Overall_Height').mean().plot(kind='bar', figsize=(10,10)) 
plt.xlabel('Overall_Height')
plt.ylabel('Heating load and Cooling load')
plt.title('Energy Efficiency of Building on Orientation')
plt.show()
Cooling and heating load increses with incresing OverallHeight

Cooling and heating load increses with Decrising RoofArea
sns.set_context('poster', font_scale=0.6)
energy_df.groupby('Roof_Area').mean().plot(kind='bar', figsize=(10,10)) 
plt.xlabel('Roof_Area')
plt.ylabel('Area and heating + cooling load')
plt.title('Energy Efficiency of Building on Roof_Area ')
plt.show()