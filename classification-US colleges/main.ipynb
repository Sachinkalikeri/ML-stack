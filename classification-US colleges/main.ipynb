# This Python 3 environment comes with many helpful analytics libraries installed
# It is defined by the kaggle/python Docker image: https://github.com/kaggle/docker-python
# For example, here's several helpful packages to load

import numpy as np # linear algebra
import pandas as pd # data processing, CSV file I/O (e.g. pd.read_csv)

# Input data files are available in the read-only "../input/" directory
# For example, running this (by clicking run or pressing Shift+Enter) will list all files under the input directory

import os
for dirname, _, filenames in os.walk('/kaggle/input'):
    for filename in filenames:
        print(os.path.join(dirname, filename))

# You can write up to 20GB to the current directory (/kaggle/working/) that gets preserved as output when you create a version using "Save & Run All" 
# You can also write temporary files to /kaggle/temp/, but they won't be saved outside of the current session
#load python packages
import pandas as pd
import numpy as np
import matplotlib.pyplot as plt
import seaborn as sns
import warnings
warnings.filterwarnings("ignore")
#load data into dataframe
df = pd.read_csv("/kaggle/input/internationals-applying-to-us-colleges/admissiondata.csv",index_col= 0)
df.head()
df.info()
#check for null value
sns.heatmap(data = df.isna(),yticklabels=False)
#correct the null values
df['highschool'].value_counts(dropna=False)
df['highschool'].fillna("Others",inplace=True)
df['highschool'] = df['highschool'].astype("category")
df['highschool'].value_counts()
df['URM'].value_counts()
#consider the idk and noresponse as NO

others = {"idk? lol":"No","-":"No"}
df['URM'] = df['URM'].replace(others)
df['URM'].value_counts()
df['faaltu'].value_counts(dropna=False)
df['faaltu'].fillna("No Response",inplace=True)
df['faaltu'].astype("category")
df['edaccept'].value_counts(dropna=False)
other_college = {"N/a":"Others","N/A":"Others","nah":"Others"}

df['edaccept'] = df['edaccept'].replace(other_college)
df['edaccept'].fillna("Others",inplace=True)
df['attending'].value_counts(dropna=False)
df['attending'].fillna("Not sure yet",inplace=True)
attending = {"Idk prob'ly Reed":"Reed" }
df['attending'] = df['attending'].replace(attending)
df.columns = df.columns.str.strip()
df['Add. Info/Context'].fillna("No Response",inplace=True)
df['acceptance'].fillna("No Response",inplace=True)
sns.heatmap(data = df.isna(),yticklabels=False)
df['Total'] = df['essayrating'] + df['ecrating'] + df['lor']
sns.set_style("whitegrid")
sns.catplot(data=df,x="highschool",y="Total",kind="bar",hue="URM")
plt.xticks(rotation = 90)
sns.despine()
plt.show()
sns.countplot(data=df,x="faaltu",width=0.2)
plt.title("Vibe check response")
sns.countplot(data=df,x="satact")
sns.countplot(data=df,x="Did you get into your ED/REA college?",width=0.5,hue="highschool")
plt.title("College addmissin response based on highschool")
plt.xlabel("Response")
plt.xticks(rotation = 90)
sns.countplot(data=df,x="Did you get into your ED/REA college?",width=0.5,hue="satact")
plt.title("College addmissin response based on highschool")
plt.xlabel("Response")
plt.xticks(rotation = 90)
plt.show()

