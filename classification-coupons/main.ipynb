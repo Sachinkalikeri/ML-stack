
import numpy as np # linear algebra
import pandas as pd # data processing, CSV file I/O (e.g. pd.read_csv)


import os
for dirname, _, filenames in os.walk('/kaggle/input'):
    for filename in filenames:
        print(os.path.join(dirname, filename))


from sklearn import preprocessing
from sklearn.model_selection import train_test_split
import matplotlib.pyplot as plt
import seaborn as sns
# **Reading the dataset**
df = pd.read_csv('/kaggle/input/coupons/Coupons.csv')
# **Exploratory Data Analysis**
# shape of the dataset
df.shape
# first 5 records of dataset
df.head()
# last 5 records of dataset
df.tail()
#info regarding dataset
df.info()
# unique values in 'Coupon' variable
df['Coupon'].unique()
# check for null values in dataset
df.isnull().values.any()
# Total count of each category in 'Coupon' variable
df['Coupon'].value_counts()
# substituting numerical values for each category in 'Coupon' variable
df['Coupon'] = df['Coupon'].map({'Kids Apparel' :0, 'Womens Apparel' :1, 'Mens Apparel' :2}).astype(int) 
df.head()
# unique values in 'Gender' variable
df['Gender'].unique()
# Total count of each category in 'Gender' variable
df['Gender'].value_counts()
# substituting numerical values for each category in 'Gender' variable
df['Gender'] = df['Gender'].map({'Female' :0, 'Male' :1}).astype(int) 
df.head()
# unique values in 'Item1' variable
df['Item1'].unique()
# Total count of each category in 'Item1' variable
df['Item1'].value_counts()
# substituting numerical values for each category in 'Item1' variable
df['Item1'] = df['Item1'].map({'Computer Games' :0, 'Mens Wear' :1, 'Cosmetics' :2,'Heels' :3,'Handbag' :4}).astype(int) 
df.head()
# unique values in 'Item2' variable
df['Item2'].unique()
# Total count of each category in 'Item2' variable
df['Item2'].value_counts()
# substituting numerical values for each category in 'Item2' variable
df['Item2'] = df['Item2'].map({'Movies' :0, 'Womens Wear' :1, 'Toys' :2,'Board Games':3,'Gym Shoes':1}).astype(int) 
df.head()
# unique values in 'Item3' variable
df['Item3'].unique()
# Total count of each category in 'Item3' variable
df['Item3'].value_counts()
# substituting numerical values for each category in 'Item3' variable
df['Item3'] = df['Item3'].map({'Educational Products' :0, 'Tie' :1, 'Kids Wear' :2,'Candy' :2}).astype(int) 
df.head()
plt.close();
sns.set_style("whitegrid");
sns.pairplot(df, hue="Coupon", height=3);
plt.show()
data=df
data
data['Coupon'].value_counts()
# **Selecting predictor and target variables**
X =data.iloc[:,0:5]
y =data.iloc[:,5]
#For data X we are taking all the rows of columns ranging from 0 to 4. 
#Similarly, for y we are taking all the rows for the 5th column as target variable


X_train, X_test, y_train, y_test = train_test_split(X, y,test_size=0.30, random_state = 1)
from sklearn.preprocessing import StandardScaler
sc = StandardScaler()
X_train = sc.fit_transform(X_train)
X_test = sc.transform(X_test)
from sklearn.linear_model import LogisticRegression
classifier = LogisticRegression()
classifier.fit(X_train,y_train)
from sklearn.metrics import confusion_matrix, accuracy_score
predictions = classifier.predict(X_test)
cm = confusion_matrix(predictions, y_test)
print(cm)
accuracy_score(predictions, y_test)