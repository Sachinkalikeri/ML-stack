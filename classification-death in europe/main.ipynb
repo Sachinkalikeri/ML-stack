import os
for dirname, _, filenames in os.walk('/kaggle/input'):
    for filename in filenames:
        print(os.path.join(dirname, filename))
# Analysis preparation

## Load packages
import pandas as pd

annually_df = pd.read_csv('/kaggle/input/deaths-by-cancer-in-europe/tps00116.tsv', sep='\t')
Let's glimpse the data columns.
print(list(annually_df.columns))
# Data pre-processing

pivot_data_col = annually_df.columns[0]
time_columns = annually_df.columns[1:]

annually_df['unit'] = annually_df[pivot_data_col].apply(lambda x: x.split(",")[0])
annually_df['age']     = annually_df[pivot_data_col].apply(lambda x: x.split(",")[1])
annually_df['sex'] = annually_df[pivot_data_col].apply(lambda x: x.split(",")[2])
annually_df['geography'] = annually_df[pivot_data_col].apply(lambda x: x.split(",")[3])
We select now only the new columns resulted from splitting the `pivot_data_col` and the time columns.
selected_columns = list(['unit', 'age', 'sex', 'geography']) +  list(time_columns)
annually_df = annually_df[selected_columns]
Next, we pivot the time columns using `melt` operation in pandas.  
We also make sure we transform `date` to be an integer (here is a year data).  
We set `value` to be a float, after we replace ": " (for N/A) with `NAN`.
annually_tr_df = annually_df.melt(id_vars=['unit', 'age', 'sex', 'geography'], 
        var_name="date", 
        value_name="value")
annually_tr_df['date'] = annually_tr_df['date'].apply(lambda x: int(x))
annually_tr_df['value'] = annually_tr_df['value'].apply(lambda x: str(x).replace("d", ""))
annually_tr_df['value'] = annually_tr_df['value'].apply(lambda x: str(x).replace("p", ""))
annually_tr_df['value'] = annually_tr_df['value'].apply(lambda x: str(x).replace(": ", "NAN"))
annually_tr_df['value'] = annually_tr_df['value'].apply(lambda x: float(x))
Let's inspect the result.
print(f"Transformed data shape: {annually_tr_df.shape} (rows/columns)")
annually_tr_df.head()
annually_tr_df.tail()

import pandas_profiling
pandas_profiling.ProfileReport(annually_tr_df)
# Export data in csv format
annually_tr_df.to_csv("deaths_by_cancer_in_europe.csv", index=False)