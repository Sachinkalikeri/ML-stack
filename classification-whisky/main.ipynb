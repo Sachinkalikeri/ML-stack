
import numpy as np # linear algebra
import pandas as pd # data processing, CSV file I/O (e.g. pd.read_csv)


import os
for dirname, _, filenames in os.walk('/kaggle/input'):
    for filename in filenames:
        print(os.path.join(dirname, filename))

df = pd.read_csv('/kaggle/input/scotch-whisky-dataset/whisky.csv',index_col=0)
print(df.shape)
df.head(10)
Now we print mean, standard deviation, 25, 50 and 75 percentile, min and max values in numerical columns to detect anomalies and identify patterns.
df.describe()
In next cell we check for NAN values that could disrupt any algorythm and mathematical calculations. 
df.isna().sum()
Now it is helpfull to see a plot of longitude and latitude. This will show the locations of the distilleries in Scotland! :)
import matplotlib.pyplot as plt

# Create scatter plot of longitude and latitude columns
plt.scatter(df['Longitude'], df['Latitude'])

# Add labels and title
plt.xlabel('Longitude')
plt.ylabel('Latitude')
plt.title('Scatter plot of longitude and latitude')

# Show plot
plt.show()
In the following cell we made a function to identify and sort 5 whisky distilleries with highest values in columns: 'Body', 'Sweetness', 'Smoky', 'Medicinal', 'Tobacco', 'Honey', 'Spicy', 'Winey', 'Nutty', 'Malty', 'Fruity', 'Floral'. Then, we plot it in a horizontal bar graph.
  
import matplotlib.pyplot as plt
import numpy as np

def plot_top_n_distilleries(column_name, n):
    # sort the dataframe by the column in descending order and select the top n rows
    top_n = df.sort_values(by=column_name, ascending=False).head(n)
    # create a horizontal bar chart with the distillery names on the y-axis and the column values on the x-axis, with colors
    colors = plt.cm.Set1(np.linspace(0, 1, n))
    plt.barh(top_n['Distillery'], top_n[column_name], color=colors)
    plt.xlabel(column_name)
    plt.title(f'Top {n} Distilleries by {column_name}')
    plt.show()
    
# plot the ten distilleries with higher body
plot_top_n_distilleries('Body', 5)

# plot the ten distilleries with higher sweetness
plot_top_n_distilleries('Sweetness', 5)

# plot the ten distilleries with higher Smoky
plot_top_n_distilleries('Smoky', 5)

# plot the ten distilleries with higher Honey
plot_top_n_distilleries('Honey', 5)

# plot the ten distilleries with higher Spicey
plot_top_n_distilleries('Spicy', 5)

# plot the ten distilleries with higher Malty
plot_top_n_distilleries('Malty', 5)

# plot the ten distilleries with higher Fruity
plot_top_n_distilleries('Fruity', 5)


sns.pairplot(df)

for col in df.columns:
    print(f"Unique values in column '{col}': {df[col].unique()}")
# Define the colors for each level of Tobacco
colors = ["#FF5733", "#FFC300"]

# Create a scatter plot with Longitude and Latitude
sns.scatterplot(x="Longitude", y="Latitude", data=df, hue="Tobacco", palette=colors, alpha=0.7);
# Define the colors for each level of Body
colors = ["#FF5733", "#FFC300", "#4CAF50", "#008CBA", "#7B1FA2"]

# Create a scatter plot with Longitude and Latitude
sns.scatterplot(x="Longitude", y="Latitude", data=df, hue="Body", palette=colors, alpha=0.7);
# Define the colors for each level of Smoky
colors = ["#FF5733", "#FFC300", "#4CAF50", "#008CBA", "#7B1FA2"]

# Create a scatter plot with Longitude and Latitude
sns.scatterplot(x="Longitude", y="Latitude", data=df, hue="Smoky", palette=colors)
# Define the colors for each level of Winey
colors = ["#FF5733", "#FFC300", "#4CAF50", "#008CBA", "#7B1FA2"]

# Create a scatter plot with Longitude and Latitude
sns.scatterplot(x="Longitude", y="Latitude", data=df, hue="Winey", palette=colors);

columns = ['Distillery', 'Body', 'Sweetness', 'Smoky', 'Medicinal', 'Tobacco', 'Honey', 'Spicy', 'Winey', 'Nutty', 'Malty', 'Fruity', 'Floral']

corr = df[columns].corr()

# Plot the correlation heatmap using Seaborn
plt.figure(figsize=(12,8))
sns.heatmap(corr, cmap='coolwarm', annot=True)
plt.title('Correlation Heatmap')
plt.show()


from sklearn.metrics.pairwise import cosine_similarity


target_whisky = 'Laphroig'

# Get the feature vector of the target whisky
target_features = df.loc[df['Distillery'] == target_whisky].iloc[:, 1:].values.reshape(1, -1)

# Compute the cosine similarity between the target whisky and all other whiskies
cos_sim = cosine_similarity(target_features, df.iloc[:, 1:])

# Find the top 5 whiskies that are most similar to the target whisky
indices = cos_sim.argsort()[0][-6:-1][::-1]  # exclude the target whisky itself
similar_whiskies = df.iloc[indices]['Distillery'].tolist()

# Print the recommended whiskies and their similarity scores
print(f"5 whiskies similar to '{target_whisky}':")
for i, whisky in enumerate(similar_whiskies):
    similarity_score = cos_sim[0][indices[i]]
    print(f"{i+1}. '{whisky}' with similarity score: {similarity_score:.2f}")
# Get the feature vector of the target whisky
target_features = df.loc[df['Distillery'] == target_whisky].iloc[:, 1:].values.reshape(1, -1)

# Compute the cosine similarity between the target whisky and all other whiskies
cos_sim = cosine_similarity(target_features, df.iloc[:, 1:])

# Create a scatter plot of the cosine similarity scores
plt.scatter(range(len(cos_sim[0])), cos_sim[0])
plt.axhline(y=cos_sim[0][indices[0]], color='r', linestyle='--', label='Top 3 Similar Whiskies')
plt.axhline(y=0.5, color='g', linestyle='--', label='Threshold for Similarity')
plt.title(f"Cosine Similarity Scores for '{target_whisky}'")
plt.xlabel('Whisky Index')
plt.ylabel('Cosine Similarity Score')
plt.legend()
plt.show()
