library(tidyverse)
── Attaching core tidyverse packages ──────────────────────── tidyverse 2.0.0 ──
✔ dplyr     1.1.2     ✔ readr     2.1.4
✔ forcats   1.0.0     ✔ stringr   1.5.0
✔ ggplot2   3.4.2     ✔ tibble    3.2.1
✔ lubridate 1.9.2     ✔ tidyr     1.3.0
✔ purrr     1.0.1     
── Conflicts ────────────────────────────────────────── tidyverse_conflicts() ──
✖ dplyr::filter() masks stats::filter()
✖ dplyr::lag()    masks stats::lag()
ℹ Use the conflicted package (<http://conflicted.r-lib.org/>) to force all conflicts to become errors

exams <- read.csv("/kaggle/input/student-performance-in-mathematics/exams.csv")
head(exams, 5)
tail(exams, 5)
str(exams)
colnames(exams)
class(exams)
summary(exams)
standard_deviation_math_score <- sd(exams$math.score)
print("Standard deviation of math score = ")
standard_deviation_math_score
standard_deviation_writing_score <- sd(exams$writing.score)
print("Standard deviation of writing score = ")
standard_deviation_writing_score
standard_deviation_reading_score <- sd(exams$reading.score)
print("Standard deviation of reading score = ")
standard_deviation_reading_score
is.na(exams)
which(is.na(exams))
exam_scores <- na.omit(exams)
dim(exam_scores)
dim(exams)
hist(exams$writing.score, col = 'green', xlab = 'Writing Score', main = 'Histogram of Writing Score')
hist(exams$math.score, col = 'blue', xlab = 'Math Score', main = 'Histogram of Math Score')
hist(exams$reading.score, col = 'orange', xlab = 'Reading Score', main = 'Histogram of Reading Score')
plot(math.score ~ writing.score, exams, xlab = 'Writing Score', ylab = 'Math Score')
plot(math.score ~ reading.score, exams, xlab = 'Reading Score', ylab = 'Math Score')
library(psych)
pairs.panels(exams[-5], cex.cor = 0.5)
gender1 <- exams %>%
group_by(exams$gender) %>%
summarise(count = n())
gender1

female_score <- exams %>% filter(gender == "female")
hist(female_score$math.score, main = 'Math score of female', xlab = 'Math score')
male_score <- exams %>% filter(gender == "male")
hist(male_score$math.score, main = 'Math score of male', xlab = 'Math score')
course_complete <- exams %>% filter(test.preparation.course == "completed")
hist(course_complete$math.score, main = 'Math Score of students who completed courses', col = 'light blue', xlab = 'Math Score')
course_not_completed <- exams %>% filter(test.preparation.course == "none")
hist(course_not_completed$math.score, main = 'Math Score of students who did not completed courses', col = 'light blue', xlab = 'Math Score')
exams %>% ggplot(aes(x = math.score, fill = gender))+
                 geom_histogram(alpha = 1)+
facet_wrap(~test.preparation.course)
exams %>% ggplot(aes(x = math.score, fill = gender))+
                 geom_density(alpha = 0.5)+
facet_wrap(~test.preparation.course)

 