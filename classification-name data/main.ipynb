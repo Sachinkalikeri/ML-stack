## Import Libraries
import numpy as np
import pandas as pd

from sklearn.model_selection import train_test_split
from sklearn.preprocessing import StandardScaler

from sklearn.linear_model import LogisticRegression
## Load Data
df = pd.read_csv("/kaggle/input/name-data-set/Indian-Name-12.csv", encoding = 'unicode_escape')
df.head()
## Modify Dataframe / Add New Columns
# lowercase name column
df["Name"] = df["Name"].str.lower()


df["name_length"] = df["Name"].str.len()

# add starts_with_{alphabet}, ends_with_{alphabet}, and count_{alphabet} columns
alphabet = "abcdefghijklmnopqrstuvwxyz"
for letter in alphabet:
    df[f"begins_with_{letter}"] = df["Name"].apply(lambda n: 1 if n[0] == letter else 0)
    df[f"ends_with_{letter}"] = df["Name"].apply(lambda n: 1 if n[-1] == letter else 0)
    df[f"count_{letter}"] = df["Name"].apply(lambda n: n.count(letter))
df.head()
## Create Feature Matrices
X = df.drop(["Name", "Target"], axis=1).to_numpy()
y = df["Target"].to_numpy()

n = X.shape[1]
print(f"X: {X.shape}")
print(f"y: {y.shape}")
## Split Test and Training Data
X_train, X_test, y_train, y_test = train_test_split(X, y, test_size=0.30)
print(f"Training data:  X_train: {X_train.shape}, y_train: {y_train.shape}")
print(f"Test data:      X_test:  {X_test.shape}, y_test:  {y_test.shape}")
X_train[:5, :5]
## Scale / Normalize Data
scaler = StandardScaler().fit(X_train)

X_train = scaler.transform(X_train)
X_test = scaler.transform(X_test)
X_train[:5, :5]
## Train Logistic Regression Model
clf = LogisticRegression().fit(X_train, y_train)
## Inspect Accuracy on Test Set
y_pred = clf.predict(X_test)

acc = (np.sum(y_pred == y_test) / y_test.size) * 100
print(f"The accuracy of the model on the test set is {round(acc, 2)}%.")
## Predict a Random Name
def predict_gender(name):
    # lowercase name
    name = name.lower()
    
    # store features
    x = []
    
    # --- create feature vector ---
    
    # add name_length
    x.append(len(name))
    
    # add starts_with_{alphabet}, ends_with_{alphabet}, and count_{alphabet} columns
    alphabet = "abcdefghijklmnopqrstuvwxyz"
    for letter in alphabet:
        x.append(1 if name[0] == letter else 0)
        x.append(1 if name[-1] == letter else 0)
        x.append(name.count(letter))
    
    # convert feature vector to a numpy array
    x = np.asarray(x).reshape(1, -1)
    
    # scale feature vector
    x = scaler.transform(x)
    
    # make prediction
    pred = clf.predict(x)[0]
    pred = "Male" if pred == 1 else "Female"
    
    return pred
name = "Ishaan" # you can try out other Indian names
pred = predict_gender(name) 
print(f"Predicted gender: {pred}")