import numpy as np
import pandas as pd
import matplotlib.pyplot as plt
import seaborn as sns
df = pd.read_csv('/kaggle/input/credit-score-classification-dataset/Credit Score Classification Dataset.csv')
df.head()
df.info()
df['Credit Score'].unique()
df.isnull().sum()
df.columns
sns.scatterplot(x='Age', y='Income', data=df, hue='Credit Score', size='Number of Children')
sns.pairplot(data=df, hue='Credit Score')
df.info()
X = df.drop('Credit Score', axis=1)
y = df['Credit Score']
X = pd.get_dummies(X)
from sklearn.model_selection import train_test_split
X_train, X_test, y_train, y_test = train_test_split(X, y, test_size=0.30, random_state=42)
from sklearn.preprocessing import StandardScaler
from sklearn.pipeline import Pipeline
from sklearn.linear_model import LogisticRegression
pipeline = Pipeline([
    ('logreg', LogisticRegression())
])
log_param_grid = {
    'logreg__C': [0.01, 0.1, 1, 10, 100],
    'logreg__penalty': ['l1', 'l2'],
    'logreg__solver': ['liblinear', 'saga'],
    'logreg__max_iter': [100, 500, 1000]
}
from sklearn.model_selection import GridSearchCV
log_grid_model = GridSearchCV(pipeline, log_param_grid, cv=5)
log_grid_model.fit(X_train, y_train)
log_grid_model.predict(X_test)
from sklearn.metrics import classification_report, confusion_matrix, ConfusionMatrixDisplay, accuracy_score
def report_model(model):
    y_pred = model.predict(X_test)
    print(classification_report(y_test, y_pred))
    cm = confusion_matrix(y_test, y_pred)
    ConfusionMatrixDisplay(cm).plot()
report_model(log_grid_model)
log_grid_model.best_params_
from sklearn.tree import DecisionTreeClassifier
dt_classifier = DecisionTreeClassifier()
from sklearn.metrics import accuracy_score
hyperparameters = {
    'max_depth': [None, 5, 10, 15],
    'min_samples_split': [2, 5, 10],
    'min_samples_leaf': [1, 2, 3],
    'max_features': ['sqrt', 'log2', None],
    'criterion': ['gini', 'entropy']
}
tree_grid_model = GridSearchCV(dt_classifier,hyperparameters,scoring='accuracy', cv=5)
tree_grid_model.fit(X_train, y_train)
report_model(tree_grid_model)
tree_grid_model.best_params_
from sklearn.ensemble import RandomForestClassifier
rf_classifier = RandomForestClassifier()
rf_param_grid = {
    'n_estimators': [100, 200, 300],  
    'max_depth': [None, 5, 10],  
    'min_samples_split': [2, 5, 10],  
    'min_samples_leaf': [1, 2, 4],  
    'max_features': ['sqrt', 'log2'] ,
    'bootstrap':[True, False]
}
rf_grid_model = GridSearchCV(estimator=rf_classifier, param_grid=rf_param_grid, cv=5)
rf_grid_model.fit(X_train, y_train)
from sklearn.model_selection import cross_val_score
knn_param_grid = {'n_neighbors': [3, 5, 7, 9, 11]}
from sklearn.neighbors import KNeighborsClassifier
knn = KNeighborsClassifier()
knn_grid_model = GridSearchCV(knn, knn_param_grid, cv=10)
knn_grid_model.fit(X_train, y_train)
report_model(knn_grid_model)
knn_grid_model.best_params_
