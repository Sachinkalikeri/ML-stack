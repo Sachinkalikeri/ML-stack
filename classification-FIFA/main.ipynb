# Import libraries, and clean .csv dataset
This FIFA Soccer statistical dataset sampled playing teams versus their opponents in 2018
import pandas as pd
from matplotlib import pyplot as plt
%matplotlib inline

data = pd.read_csv('../input/fifa-soccer-dataset/FIFA 2018 Statistics.csv')    #input the actual file path
data.head()
data.shape
# Identification: X features and Y predicted data
import pandas as pd
data = pd.read_csv('../input/fifa-soccer-dataset/FIFA 2018 Statistics.csv')
#Above codes are redundant; only done to keep nb active after lots of saved versions

data.columns
data = data.drop(['Date', 'Team', 'Opponent', 'Ball Possession %', 'Blocked', 'Offsides', 'Saves', 'Pass Accuracy %', 'Fouls Committed', 'Yellow Card', 'Yellow & Red', 'Red', '1st Goal', 'Round', 'PSO', 'Goals in PSO', 'Own goals', 'Own goal Time'], axis=1)
data.head()
X = data[['Goal Scored', 'Attempts', 'On-Target', 'Off-Target', 'Corners', 'Free Kicks', 'Passes', 'Distance Covered (Kms)']]
y = data['Man of the Match']
# Training a Decision Tree (DT) using 20% data for testing
from sklearn.model_selection import train_test_split

X_train, X_test, y_train, y_test,= train_test_split(X, y, test_size=0.2, random_state=36)
from sklearn.tree import DecisionTreeClassifier

DT = DecisionTreeClassifier()
DT.fit(X_train,y_train)
# Visualization using graphviz
from sklearn.tree import export_graphviz
from sklearn import tree
export_graphviz(DT, 'tree.dot',
               feature_names = ['Goal Scored', 'Attempts', 'On-Target', 'Off-Target', 'Corners', 'Free Kicks', 'Passes', 'Distance Covered (Kms)'],
               class_names = data['Man of the Match'].unique())
import graphviz

with open('tree.dot') as f:
    dot_graph = f.read()
display(graphviz.Source(dot_graph))
# Classification Report: Accuracy, Precesion, Recall, F1-score
from sklearn import metrics
from sklearn.metrics import classification_report

predict = DT.predict(X_test)
print(predict)
from sklearn.metrics import classification_report

ClassR= metrics.classification_report(y_test, predict)
print(ClassR)
import pandas as pd
data = pd.read_csv('../input/fifa-soccer-dataset/FIFA 2018 Statistics.csv')
data.to_csv('submission.csv', index=None)
