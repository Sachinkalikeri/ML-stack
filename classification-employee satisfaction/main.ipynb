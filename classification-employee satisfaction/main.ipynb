import numpy as np
import pandas as pd
from matplotlib import pyplot as plt
import seaborn as sns 

df = pd.read_csv('../input/employee-satisfaction-index-dataset/Employee Satisfaction Index.csv')
df.head()
df.shape
df.dtypes
df.describe
df.isnull().sum()
c_df = df.drop(['Unnamed: 0'], axis=1)
plt.figure(figsize=(15,10))
sns.heatmap(c_df.corr(), annot=True, cmap='coolwarm', center = .35)
plt.title('Job Satisfaction Correlation', fontsize=15)
#Removing items with negative correlation with job satisfaction from the list and re-running correlation for clarity.  This allows a focus on items with strong correlation to our key index--job satisfaction.
no_neg_df = c_df.drop(['age', 'certifications'], axis=1)
no_neg_df.corr()

#df_copy = df
#df_copy['rating'] = df_copy['rating'].fill 

#df.pivot( columns='Dept', values='rating', aggfunc=pd.Series.nunique)


plt.figure(figsize=(15,10))
sns.histplot(data=df,x='Dept',hue='salary', palette='muted', multiple="stack")
plt.title('Salaries by Department')
plt.legend(title='Salary', bbox_to_anchor=(1.1,1), loc=1,borderaxespad=0, 
           labels=['$24,076','$29,805','$42,419','$65,715','$86,750'])

plt.figure(figsize=(15,10))
sns.histplot(data=df,x='Dept', hue='rating', palette='muted', multiple="stack")
plt.title('Performance Ratings by Department', fontsize=15)
plt.legend(title='Rating',bbox_to_anchor=(1.02,1), borderaxespad=0,
           labels=['5 - Highly Exceeds Expectations','4 - Exceeds Expectations',
                '3 - Meeting Expectations','2 - Needs Improvement','1 - Poor Performance'], fontsize=10)
plt.xlabel('Department', fontsize=12)
plt.ylabel('Count of Employees', fontsize=12)

#Converting to Numeric Representations for Text Data to improve correlation
cor_df = c_df.replace(['HR','Technology','Sales', 'Purchasing', 'Marketing',], [1,2,3,4,5])
cor_df = cor_df.replace(['Suburb', 'City'],[1,2])
cor_df = cor_df.replace(['PG','UG'],[1,2])
cor_df = cor_df.replace(['Referral','Walk-in','On-Campus','Recruitment Agency'],[1,2,3,4])

cor_df.head()


cor_df.corr()
#Updated Heatmap with all fields included
plt.figure(figsize=(15,10))
sns.heatmap(cor_df.corr(), annot=True, cmap='coolwarm', center=.25)
plt.xticks(fontsize=12)
plt.yticks(fontsize=12)
plt.title('Correlation Matrix - Heatmap', fontsize=20)
We can see below that job rating is correlated strongly with job satisfaction.  Factors influencing job rating are age, job level, salary, and onsite/remote.  Let's isolate age to determine how this is related to ratings. 
cordf_clean = cor_df.drop(columns=['certifications', 'education', 'Dept'], axis=1)
plt.figure(figsize=(15,10))
sns.heatmap(cordf_clean.corr(), cmap='coolwarm', center=.1, annot=True)
plt.figure(figsize=(15,10))
sns.histplot(data=cordf_clean, x='age', bins=5, hue='rating', multiple='stack', palette='muted')
plt.legend(ncol=2, labels=[5,4,3,2,1], title="Rating")

cordf_clean.hist(figsize=(15,10))