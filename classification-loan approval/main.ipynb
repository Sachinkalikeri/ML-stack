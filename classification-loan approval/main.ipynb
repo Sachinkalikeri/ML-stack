# This Python 3 environment comes with many helpful analytics libraries installed
# It is defined by the kaggle/python Docker image: https://github.com/kaggle/docker-python
# For example, here's several helpful packages to load

import numpy as np # linear algebra
import pandas as pd # data processing, CSV file I/O (e.g. pd.read_csv)

# Input data files are available in the read-only "../input/" directory
# For example, running this (by clicking run or pressing Shift+Enter) will list all files under the input directory

import os
for dirname, _, filenames in os.walk('/kaggle/input'):
    for filename in filenames:
        print(os.path.join(dirname, filename))

# You can write up to 20GB to the current directory (/kaggle/working/) that gets preserved as output when you create a version using "Save & Run All" 
# You can also write temporary files to /kaggle/temp/, but they won't be saved outside of the current session
data=pd.read_csv('/kaggle/input/loan-approval-systemlas/clientes.csv')
data.head()
data.shape
data.isnull().sum()
data.drop(columns=['cod_cliente'],inplace=True)
data.head()
data['sexo'].unique()
data['prestacao_mensal'].unique()
data['historico_credito'].unique()
data['aprovacao_emprestimo'].unique()

data['dependentes'].unique()

data['estado_civil'].unique()
data['emprestimo'].unique()
data['empregado'].unique()

data.sexo=data.sexo.fillna('No')
data.estado_civil=data.estado_civil.fillna('No')
data.empregado=data.empregado.fillna('No')
data.dependentes=data.dependentes.fillna(0)
data.emprestimo=data.emprestimo.fillna(data.emprestimo.mean())
data.prestacao_mensal=data.prestacao_mensal.fillna(data.prestacao_mensal.mean())
data.historico_credito=data.historico_credito.fillna(0.0)
data.isnull().sum()
data.head()
data.describe()
data["dependentes"].replace({"3+":"3"},inplace=True)
data["renda_conjuge"].replace({"9.857.999.878":"9875","1.612.000.084":"1612"},inplace=True)
data.dependentes.unique()
data.renda_conjuge.unique()
import seaborn as sns
sns.pairplot(data)
sns.pairplot(data,hue="sexo")
sns.countplot(data.sexo)
data.sexo.value_counts()
data.corr()
import seaborn as sns
sns.heatmap(data.corr(),annot=True)
x=data.drop(columns=['aprovacao_emprestimo'])
y=data[['aprovacao_emprestimo']]
from sklearn.preprocessing import LabelEncoder
le=LabelEncoder()
y[['aprovacao_emprestimo']]=pd.DataFrame(le.fit_transform(y[['aprovacao_emprestimo']]))
y.head()
nom_cols=['sexo','imovel','estado_civil']
ord_cols=['educacao','empregado']
from sklearn.model_selection import train_test_split
x_train,x_test,y_train,y_test=train_test_split(x,y,test_size=0.3)
from sklearn.compose import make_column_transformer
from sklearn.preprocessing import OneHotEncoder,OrdinalEncoder
trans_data=make_column_transformer((OneHotEncoder(sparse=False),[0,10,1]),(OrdinalEncoder(),[3,4]),remainder='passthrough')
x_train
x.head()
x_train.head()
trans_data.fit_transform(x_train)
from sklearn.neighbors import KNeighborsClassifier
model=KNeighborsClassifier(n_neighbors=5)
from sklearn.pipeline import make_pipeline
from sklearn import set_config
set_config(display='diagram')
pipe=make_pipeline(trans_data,model)
pipe
pipe.fit(x_train,y_train)
x_train.renda_conjuge.unique()
pred=pipe.predict(x_test)
from sklearn.metrics import accuracy_score
accuracy_score(pred,y_test)*100
pipe.predict(pd.DataFrame(np.array([['Male','Yes',1,'Graduate','No',3678,7894,312.0,450.0,1.0,'Urban']]).reshape(1,11)))
from sklearn.linear_model import LogisticRegression
model2=LogisticRegression(solver="liblinear")
model2
from sklearn.pipeline import make_pipeline
from sklearn import set_config

set_config(display='diagram')

pipe2=make_pipeline(trans_data,model2)
pipe2
pipe2.fit(x_train,y_train)
from sklearn.metrics import plot_confusion_matrix
plot_confusion_matrix(pipe2,x,y)
from sklearn.model_selection import StratifiedKFold,cross_val_score
s=StratifiedKFold(n_splits=4)
np.mean(cross_val_score(pipe,x,y,cv=s,scoring="accuracy"))*100
